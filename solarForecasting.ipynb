{
  "nbformat": 4,
  "nbformat_minor": 0,
  "metadata": {
    "colab": {
      "name": "solarForecasting.ipynb",
      "provenance": [],
      "collapsed_sections": []
    },
    "kernelspec": {
      "name": "python3",
      "display_name": "Python 3"
    },
    "language_info": {
      "name": "python"
    }
  },
  "cells": [
    {
      "cell_type": "code",
      "execution_count": null,
      "metadata": {
        "id": "yeVH80nogMBu"
      },
      "outputs": [],
      "source": [
        "from math import sqrt\n",
        "from numpy import concatenate\n",
        "import matplotlib.pyplot as plt\n",
        "import pandas as pd\n",
        "import numpy as np\n",
        "from sklearn.preprocessing import MinMaxScaler\n",
        "from sklearn.preprocessing import LabelEncoder\n",
        "from sklearn import metrics\n",
        "from keras.models import Sequential\n",
        "from keras.layers import Dense\n",
        "from keras.layers import LSTM"
      ]
    },
    {
      "cell_type": "code",
      "source": [
        "# load dataset\n",
        "dataset = pd.read_csv('time_series_solar-dataset.csv', header=0)\n"
      ],
      "metadata": {
        "id": "wUfMwjLcj34F"
      },
      "execution_count": null,
      "outputs": []
    },
    {
      "cell_type": "code",
      "source": [
        "dataset.tail()"
      ],
      "metadata": {
        "colab": {
          "base_uri": "https://localhost:8080/",
          "height": 206
        },
        "id": "miDRC11NXPoA",
        "outputId": "8ffce4da-dd9a-422a-dcb3-c7391e54e0b4"
      },
      "execution_count": null,
      "outputs": [
        {
          "output_type": "execute_result",
          "data": {
            "text/plain": [
              "              Time  irradiation_forecast  temp_forecast  irradiation  \\\n",
              "36715  10-03-21 19             19.610334       4.694629     0.770375   \n",
              "36716  10-03-21 20              0.000000       3.454629     0.987695   \n",
              "36717  10-03-21 21              0.000000       2.124629     0.987637   \n",
              "36718  10-03-21 22              0.000000       1.034629     0.993837   \n",
              "36719  10-03-21 23              0.000000       0.264629     0.987654   \n",
              "\n",
              "       temperature  power  \n",
              "36715     3.713455    0.0  \n",
              "36716     2.694212    0.0  \n",
              "36717     1.834956    0.0  \n",
              "36718     1.209808    0.0  \n",
              "36719     0.613663    0.0  "
            ],
            "text/html": [
              "\n",
              "  <div id=\"df-a7f57212-0179-45a2-99ad-f590a1730513\">\n",
              "    <div class=\"colab-df-container\">\n",
              "      <div>\n",
              "<style scoped>\n",
              "    .dataframe tbody tr th:only-of-type {\n",
              "        vertical-align: middle;\n",
              "    }\n",
              "\n",
              "    .dataframe tbody tr th {\n",
              "        vertical-align: top;\n",
              "    }\n",
              "\n",
              "    .dataframe thead th {\n",
              "        text-align: right;\n",
              "    }\n",
              "</style>\n",
              "<table border=\"1\" class=\"dataframe\">\n",
              "  <thead>\n",
              "    <tr style=\"text-align: right;\">\n",
              "      <th></th>\n",
              "      <th>Time</th>\n",
              "      <th>irradiation_forecast</th>\n",
              "      <th>temp_forecast</th>\n",
              "      <th>irradiation</th>\n",
              "      <th>temperature</th>\n",
              "      <th>power</th>\n",
              "    </tr>\n",
              "  </thead>\n",
              "  <tbody>\n",
              "    <tr>\n",
              "      <th>36715</th>\n",
              "      <td>10-03-21 19</td>\n",
              "      <td>19.610334</td>\n",
              "      <td>4.694629</td>\n",
              "      <td>0.770375</td>\n",
              "      <td>3.713455</td>\n",
              "      <td>0.0</td>\n",
              "    </tr>\n",
              "    <tr>\n",
              "      <th>36716</th>\n",
              "      <td>10-03-21 20</td>\n",
              "      <td>0.000000</td>\n",
              "      <td>3.454629</td>\n",
              "      <td>0.987695</td>\n",
              "      <td>2.694212</td>\n",
              "      <td>0.0</td>\n",
              "    </tr>\n",
              "    <tr>\n",
              "      <th>36717</th>\n",
              "      <td>10-03-21 21</td>\n",
              "      <td>0.000000</td>\n",
              "      <td>2.124629</td>\n",
              "      <td>0.987637</td>\n",
              "      <td>1.834956</td>\n",
              "      <td>0.0</td>\n",
              "    </tr>\n",
              "    <tr>\n",
              "      <th>36718</th>\n",
              "      <td>10-03-21 22</td>\n",
              "      <td>0.000000</td>\n",
              "      <td>1.034629</td>\n",
              "      <td>0.993837</td>\n",
              "      <td>1.209808</td>\n",
              "      <td>0.0</td>\n",
              "    </tr>\n",
              "    <tr>\n",
              "      <th>36719</th>\n",
              "      <td>10-03-21 23</td>\n",
              "      <td>0.000000</td>\n",
              "      <td>0.264629</td>\n",
              "      <td>0.987654</td>\n",
              "      <td>0.613663</td>\n",
              "      <td>0.0</td>\n",
              "    </tr>\n",
              "  </tbody>\n",
              "</table>\n",
              "</div>\n",
              "      <button class=\"colab-df-convert\" onclick=\"convertToInteractive('df-a7f57212-0179-45a2-99ad-f590a1730513')\"\n",
              "              title=\"Convert this dataframe to an interactive table.\"\n",
              "              style=\"display:none;\">\n",
              "        \n",
              "  <svg xmlns=\"http://www.w3.org/2000/svg\" height=\"24px\"viewBox=\"0 0 24 24\"\n",
              "       width=\"24px\">\n",
              "    <path d=\"M0 0h24v24H0V0z\" fill=\"none\"/>\n",
              "    <path d=\"M18.56 5.44l.94 2.06.94-2.06 2.06-.94-2.06-.94-.94-2.06-.94 2.06-2.06.94zm-11 1L8.5 8.5l.94-2.06 2.06-.94-2.06-.94L8.5 2.5l-.94 2.06-2.06.94zm10 10l.94 2.06.94-2.06 2.06-.94-2.06-.94-.94-2.06-.94 2.06-2.06.94z\"/><path d=\"M17.41 7.96l-1.37-1.37c-.4-.4-.92-.59-1.43-.59-.52 0-1.04.2-1.43.59L10.3 9.45l-7.72 7.72c-.78.78-.78 2.05 0 2.83L4 21.41c.39.39.9.59 1.41.59.51 0 1.02-.2 1.41-.59l7.78-7.78 2.81-2.81c.8-.78.8-2.07 0-2.86zM5.41 20L4 18.59l7.72-7.72 1.47 1.35L5.41 20z\"/>\n",
              "  </svg>\n",
              "      </button>\n",
              "      \n",
              "  <style>\n",
              "    .colab-df-container {\n",
              "      display:flex;\n",
              "      flex-wrap:wrap;\n",
              "      gap: 12px;\n",
              "    }\n",
              "\n",
              "    .colab-df-convert {\n",
              "      background-color: #E8F0FE;\n",
              "      border: none;\n",
              "      border-radius: 50%;\n",
              "      cursor: pointer;\n",
              "      display: none;\n",
              "      fill: #1967D2;\n",
              "      height: 32px;\n",
              "      padding: 0 0 0 0;\n",
              "      width: 32px;\n",
              "    }\n",
              "\n",
              "    .colab-df-convert:hover {\n",
              "      background-color: #E2EBFA;\n",
              "      box-shadow: 0px 1px 2px rgba(60, 64, 67, 0.3), 0px 1px 3px 1px rgba(60, 64, 67, 0.15);\n",
              "      fill: #174EA6;\n",
              "    }\n",
              "\n",
              "    [theme=dark] .colab-df-convert {\n",
              "      background-color: #3B4455;\n",
              "      fill: #D2E3FC;\n",
              "    }\n",
              "\n",
              "    [theme=dark] .colab-df-convert:hover {\n",
              "      background-color: #434B5C;\n",
              "      box-shadow: 0px 1px 3px 1px rgba(0, 0, 0, 0.15);\n",
              "      filter: drop-shadow(0px 1px 2px rgba(0, 0, 0, 0.3));\n",
              "      fill: #FFFFFF;\n",
              "    }\n",
              "  </style>\n",
              "\n",
              "      <script>\n",
              "        const buttonEl =\n",
              "          document.querySelector('#df-a7f57212-0179-45a2-99ad-f590a1730513 button.colab-df-convert');\n",
              "        buttonEl.style.display =\n",
              "          google.colab.kernel.accessAllowed ? 'block' : 'none';\n",
              "\n",
              "        async function convertToInteractive(key) {\n",
              "          const element = document.querySelector('#df-a7f57212-0179-45a2-99ad-f590a1730513');\n",
              "          const dataTable =\n",
              "            await google.colab.kernel.invokeFunction('convertToInteractive',\n",
              "                                                     [key], {});\n",
              "          if (!dataTable) return;\n",
              "\n",
              "          const docLinkHtml = 'Like what you see? Visit the ' +\n",
              "            '<a target=\"_blank\" href=https://colab.research.google.com/notebooks/data_table.ipynb>data table notebook</a>'\n",
              "            + ' to learn more about interactive tables.';\n",
              "          element.innerHTML = '';\n",
              "          dataTable['output_type'] = 'display_data';\n",
              "          await google.colab.output.renderOutput(dataTable, element);\n",
              "          const docLink = document.createElement('div');\n",
              "          docLink.innerHTML = docLinkHtml;\n",
              "          element.appendChild(docLink);\n",
              "        }\n",
              "      </script>\n",
              "    </div>\n",
              "  </div>\n",
              "  "
            ]
          },
          "metadata": {},
          "execution_count": 3
        }
      ]
    },
    {
      "cell_type": "code",
      "source": [
        "dataset.head()"
      ],
      "metadata": {
        "colab": {
          "base_uri": "https://localhost:8080/",
          "height": 206
        },
        "id": "Fi5dMEQnAlCe",
        "outputId": "8d1f69c7-b10e-4cea-b251-ac4431233093"
      },
      "execution_count": null,
      "outputs": [
        {
          "output_type": "execute_result",
          "data": {
            "text/html": [
              "\n",
              "  <div id=\"df-eeff4ada-5c84-4a26-8321-34f28da2f1db\">\n",
              "    <div class=\"colab-df-container\">\n",
              "      <div>\n",
              "<style scoped>\n",
              "    .dataframe tbody tr th:only-of-type {\n",
              "        vertical-align: middle;\n",
              "    }\n",
              "\n",
              "    .dataframe tbody tr th {\n",
              "        vertical-align: top;\n",
              "    }\n",
              "\n",
              "    .dataframe thead th {\n",
              "        text-align: right;\n",
              "    }\n",
              "</style>\n",
              "<table border=\"1\" class=\"dataframe\">\n",
              "  <thead>\n",
              "    <tr style=\"text-align: right;\">\n",
              "      <th></th>\n",
              "      <th>Time</th>\n",
              "      <th>irradiation_forecast</th>\n",
              "      <th>temp_forecast</th>\n",
              "      <th>irradiation</th>\n",
              "      <th>temperature</th>\n",
              "      <th>power</th>\n",
              "    </tr>\n",
              "  </thead>\n",
              "  <tbody>\n",
              "    <tr>\n",
              "      <th>0</th>\n",
              "      <td>01-01-17 00</td>\n",
              "      <td>0.0</td>\n",
              "      <td>-2.115371</td>\n",
              "      <td>0.802334</td>\n",
              "      <td>0.720098</td>\n",
              "      <td>0.0</td>\n",
              "    </tr>\n",
              "    <tr>\n",
              "      <th>1</th>\n",
              "      <td>01-01-17 01</td>\n",
              "      <td>0.0</td>\n",
              "      <td>-2.185371</td>\n",
              "      <td>1.000000</td>\n",
              "      <td>1.154616</td>\n",
              "      <td>0.0</td>\n",
              "    </tr>\n",
              "    <tr>\n",
              "      <th>2</th>\n",
              "      <td>01-01-17 02</td>\n",
              "      <td>0.0</td>\n",
              "      <td>-2.265371</td>\n",
              "      <td>0.891393</td>\n",
              "      <td>1.304207</td>\n",
              "      <td>0.0</td>\n",
              "    </tr>\n",
              "    <tr>\n",
              "      <th>3</th>\n",
              "      <td>01-01-17 03</td>\n",
              "      <td>0.0</td>\n",
              "      <td>-2.445371</td>\n",
              "      <td>0.837256</td>\n",
              "      <td>1.079527</td>\n",
              "      <td>0.0</td>\n",
              "    </tr>\n",
              "    <tr>\n",
              "      <th>4</th>\n",
              "      <td>01-01-17 04</td>\n",
              "      <td>0.0</td>\n",
              "      <td>-2.845371</td>\n",
              "      <td>0.848814</td>\n",
              "      <td>0.649967</td>\n",
              "      <td>0.0</td>\n",
              "    </tr>\n",
              "  </tbody>\n",
              "</table>\n",
              "</div>\n",
              "      <button class=\"colab-df-convert\" onclick=\"convertToInteractive('df-eeff4ada-5c84-4a26-8321-34f28da2f1db')\"\n",
              "              title=\"Convert this dataframe to an interactive table.\"\n",
              "              style=\"display:none;\">\n",
              "        \n",
              "  <svg xmlns=\"http://www.w3.org/2000/svg\" height=\"24px\"viewBox=\"0 0 24 24\"\n",
              "       width=\"24px\">\n",
              "    <path d=\"M0 0h24v24H0V0z\" fill=\"none\"/>\n",
              "    <path d=\"M18.56 5.44l.94 2.06.94-2.06 2.06-.94-2.06-.94-.94-2.06-.94 2.06-2.06.94zm-11 1L8.5 8.5l.94-2.06 2.06-.94-2.06-.94L8.5 2.5l-.94 2.06-2.06.94zm10 10l.94 2.06.94-2.06 2.06-.94-2.06-.94-.94-2.06-.94 2.06-2.06.94z\"/><path d=\"M17.41 7.96l-1.37-1.37c-.4-.4-.92-.59-1.43-.59-.52 0-1.04.2-1.43.59L10.3 9.45l-7.72 7.72c-.78.78-.78 2.05 0 2.83L4 21.41c.39.39.9.59 1.41.59.51 0 1.02-.2 1.41-.59l7.78-7.78 2.81-2.81c.8-.78.8-2.07 0-2.86zM5.41 20L4 18.59l7.72-7.72 1.47 1.35L5.41 20z\"/>\n",
              "  </svg>\n",
              "      </button>\n",
              "      \n",
              "  <style>\n",
              "    .colab-df-container {\n",
              "      display:flex;\n",
              "      flex-wrap:wrap;\n",
              "      gap: 12px;\n",
              "    }\n",
              "\n",
              "    .colab-df-convert {\n",
              "      background-color: #E8F0FE;\n",
              "      border: none;\n",
              "      border-radius: 50%;\n",
              "      cursor: pointer;\n",
              "      display: none;\n",
              "      fill: #1967D2;\n",
              "      height: 32px;\n",
              "      padding: 0 0 0 0;\n",
              "      width: 32px;\n",
              "    }\n",
              "\n",
              "    .colab-df-convert:hover {\n",
              "      background-color: #E2EBFA;\n",
              "      box-shadow: 0px 1px 2px rgba(60, 64, 67, 0.3), 0px 1px 3px 1px rgba(60, 64, 67, 0.15);\n",
              "      fill: #174EA6;\n",
              "    }\n",
              "\n",
              "    [theme=dark] .colab-df-convert {\n",
              "      background-color: #3B4455;\n",
              "      fill: #D2E3FC;\n",
              "    }\n",
              "\n",
              "    [theme=dark] .colab-df-convert:hover {\n",
              "      background-color: #434B5C;\n",
              "      box-shadow: 0px 1px 3px 1px rgba(0, 0, 0, 0.15);\n",
              "      filter: drop-shadow(0px 1px 2px rgba(0, 0, 0, 0.3));\n",
              "      fill: #FFFFFF;\n",
              "    }\n",
              "  </style>\n",
              "\n",
              "      <script>\n",
              "        const buttonEl =\n",
              "          document.querySelector('#df-eeff4ada-5c84-4a26-8321-34f28da2f1db button.colab-df-convert');\n",
              "        buttonEl.style.display =\n",
              "          google.colab.kernel.accessAllowed ? 'block' : 'none';\n",
              "\n",
              "        async function convertToInteractive(key) {\n",
              "          const element = document.querySelector('#df-eeff4ada-5c84-4a26-8321-34f28da2f1db');\n",
              "          const dataTable =\n",
              "            await google.colab.kernel.invokeFunction('convertToInteractive',\n",
              "                                                     [key], {});\n",
              "          if (!dataTable) return;\n",
              "\n",
              "          const docLinkHtml = 'Like what you see? Visit the ' +\n",
              "            '<a target=\"_blank\" href=https://colab.research.google.com/notebooks/data_table.ipynb>data table notebook</a>'\n",
              "            + ' to learn more about interactive tables.';\n",
              "          element.innerHTML = '';\n",
              "          dataTable['output_type'] = 'display_data';\n",
              "          await google.colab.output.renderOutput(dataTable, element);\n",
              "          const docLink = document.createElement('div');\n",
              "          docLink.innerHTML = docLinkHtml;\n",
              "          element.appendChild(docLink);\n",
              "        }\n",
              "      </script>\n",
              "    </div>\n",
              "  </div>\n",
              "  "
            ],
            "text/plain": [
              "          Time  irradiation_forecast  temp_forecast  irradiation  temperature  \\\n",
              "0  01-01-17 00                   0.0      -2.115371     0.802334     0.720098   \n",
              "1  01-01-17 01                   0.0      -2.185371     1.000000     1.154616   \n",
              "2  01-01-17 02                   0.0      -2.265371     0.891393     1.304207   \n",
              "3  01-01-17 03                   0.0      -2.445371     0.837256     1.079527   \n",
              "4  01-01-17 04                   0.0      -2.845371     0.848814     0.649967   \n",
              "\n",
              "   power  \n",
              "0    0.0  \n",
              "1    0.0  \n",
              "2    0.0  \n",
              "3    0.0  \n",
              "4    0.0  "
            ]
          },
          "metadata": {},
          "execution_count": 43
        }
      ]
    },
    {
      "cell_type": "code",
      "source": [
        "dataset.set_index(pd.DatetimeIndex(dataset.Time),inplace=True)\n",
        "dataset.drop(columns=['Time'],inplace=True)"
      ],
      "metadata": {
        "id": "bIX7lGSsid0C"
      },
      "execution_count": null,
      "outputs": []
    },
    {
      "cell_type": "code",
      "source": [
        "dataset.head()"
      ],
      "metadata": {
        "colab": {
          "base_uri": "https://localhost:8080/",
          "height": 237
        },
        "id": "4ZOjDg_jioU0",
        "outputId": "b40e704d-ffca-4acb-fcd5-5de816c6dd32"
      },
      "execution_count": null,
      "outputs": [
        {
          "output_type": "execute_result",
          "data": {
            "text/html": [
              "\n",
              "  <div id=\"df-2183befb-4842-4aed-9ef5-5b84632a3f35\">\n",
              "    <div class=\"colab-df-container\">\n",
              "      <div>\n",
              "<style scoped>\n",
              "    .dataframe tbody tr th:only-of-type {\n",
              "        vertical-align: middle;\n",
              "    }\n",
              "\n",
              "    .dataframe tbody tr th {\n",
              "        vertical-align: top;\n",
              "    }\n",
              "\n",
              "    .dataframe thead th {\n",
              "        text-align: right;\n",
              "    }\n",
              "</style>\n",
              "<table border=\"1\" class=\"dataframe\">\n",
              "  <thead>\n",
              "    <tr style=\"text-align: right;\">\n",
              "      <th></th>\n",
              "      <th>irradiation_forecast</th>\n",
              "      <th>temp_forecast</th>\n",
              "      <th>irradiation</th>\n",
              "      <th>temperature</th>\n",
              "      <th>power</th>\n",
              "    </tr>\n",
              "    <tr>\n",
              "      <th>Time</th>\n",
              "      <th></th>\n",
              "      <th></th>\n",
              "      <th></th>\n",
              "      <th></th>\n",
              "      <th></th>\n",
              "    </tr>\n",
              "  </thead>\n",
              "  <tbody>\n",
              "    <tr>\n",
              "      <th>2017-01-01 00:00:00</th>\n",
              "      <td>0.0</td>\n",
              "      <td>-2.115371</td>\n",
              "      <td>0.802334</td>\n",
              "      <td>0.720098</td>\n",
              "      <td>0.0</td>\n",
              "    </tr>\n",
              "    <tr>\n",
              "      <th>2017-01-01 01:00:00</th>\n",
              "      <td>0.0</td>\n",
              "      <td>-2.185371</td>\n",
              "      <td>1.000000</td>\n",
              "      <td>1.154616</td>\n",
              "      <td>0.0</td>\n",
              "    </tr>\n",
              "    <tr>\n",
              "      <th>2017-01-01 02:00:00</th>\n",
              "      <td>0.0</td>\n",
              "      <td>-2.265371</td>\n",
              "      <td>0.891393</td>\n",
              "      <td>1.304207</td>\n",
              "      <td>0.0</td>\n",
              "    </tr>\n",
              "    <tr>\n",
              "      <th>2017-01-01 03:00:00</th>\n",
              "      <td>0.0</td>\n",
              "      <td>-2.445371</td>\n",
              "      <td>0.837256</td>\n",
              "      <td>1.079527</td>\n",
              "      <td>0.0</td>\n",
              "    </tr>\n",
              "    <tr>\n",
              "      <th>2017-01-01 04:00:00</th>\n",
              "      <td>0.0</td>\n",
              "      <td>-2.845371</td>\n",
              "      <td>0.848814</td>\n",
              "      <td>0.649967</td>\n",
              "      <td>0.0</td>\n",
              "    </tr>\n",
              "  </tbody>\n",
              "</table>\n",
              "</div>\n",
              "      <button class=\"colab-df-convert\" onclick=\"convertToInteractive('df-2183befb-4842-4aed-9ef5-5b84632a3f35')\"\n",
              "              title=\"Convert this dataframe to an interactive table.\"\n",
              "              style=\"display:none;\">\n",
              "        \n",
              "  <svg xmlns=\"http://www.w3.org/2000/svg\" height=\"24px\"viewBox=\"0 0 24 24\"\n",
              "       width=\"24px\">\n",
              "    <path d=\"M0 0h24v24H0V0z\" fill=\"none\"/>\n",
              "    <path d=\"M18.56 5.44l.94 2.06.94-2.06 2.06-.94-2.06-.94-.94-2.06-.94 2.06-2.06.94zm-11 1L8.5 8.5l.94-2.06 2.06-.94-2.06-.94L8.5 2.5l-.94 2.06-2.06.94zm10 10l.94 2.06.94-2.06 2.06-.94-2.06-.94-.94-2.06-.94 2.06-2.06.94z\"/><path d=\"M17.41 7.96l-1.37-1.37c-.4-.4-.92-.59-1.43-.59-.52 0-1.04.2-1.43.59L10.3 9.45l-7.72 7.72c-.78.78-.78 2.05 0 2.83L4 21.41c.39.39.9.59 1.41.59.51 0 1.02-.2 1.41-.59l7.78-7.78 2.81-2.81c.8-.78.8-2.07 0-2.86zM5.41 20L4 18.59l7.72-7.72 1.47 1.35L5.41 20z\"/>\n",
              "  </svg>\n",
              "      </button>\n",
              "      \n",
              "  <style>\n",
              "    .colab-df-container {\n",
              "      display:flex;\n",
              "      flex-wrap:wrap;\n",
              "      gap: 12px;\n",
              "    }\n",
              "\n",
              "    .colab-df-convert {\n",
              "      background-color: #E8F0FE;\n",
              "      border: none;\n",
              "      border-radius: 50%;\n",
              "      cursor: pointer;\n",
              "      display: none;\n",
              "      fill: #1967D2;\n",
              "      height: 32px;\n",
              "      padding: 0 0 0 0;\n",
              "      width: 32px;\n",
              "    }\n",
              "\n",
              "    .colab-df-convert:hover {\n",
              "      background-color: #E2EBFA;\n",
              "      box-shadow: 0px 1px 2px rgba(60, 64, 67, 0.3), 0px 1px 3px 1px rgba(60, 64, 67, 0.15);\n",
              "      fill: #174EA6;\n",
              "    }\n",
              "\n",
              "    [theme=dark] .colab-df-convert {\n",
              "      background-color: #3B4455;\n",
              "      fill: #D2E3FC;\n",
              "    }\n",
              "\n",
              "    [theme=dark] .colab-df-convert:hover {\n",
              "      background-color: #434B5C;\n",
              "      box-shadow: 0px 1px 3px 1px rgba(0, 0, 0, 0.15);\n",
              "      filter: drop-shadow(0px 1px 2px rgba(0, 0, 0, 0.3));\n",
              "      fill: #FFFFFF;\n",
              "    }\n",
              "  </style>\n",
              "\n",
              "      <script>\n",
              "        const buttonEl =\n",
              "          document.querySelector('#df-2183befb-4842-4aed-9ef5-5b84632a3f35 button.colab-df-convert');\n",
              "        buttonEl.style.display =\n",
              "          google.colab.kernel.accessAllowed ? 'block' : 'none';\n",
              "\n",
              "        async function convertToInteractive(key) {\n",
              "          const element = document.querySelector('#df-2183befb-4842-4aed-9ef5-5b84632a3f35');\n",
              "          const dataTable =\n",
              "            await google.colab.kernel.invokeFunction('convertToInteractive',\n",
              "                                                     [key], {});\n",
              "          if (!dataTable) return;\n",
              "\n",
              "          const docLinkHtml = 'Like what you see? Visit the ' +\n",
              "            '<a target=\"_blank\" href=https://colab.research.google.com/notebooks/data_table.ipynb>data table notebook</a>'\n",
              "            + ' to learn more about interactive tables.';\n",
              "          element.innerHTML = '';\n",
              "          dataTable['output_type'] = 'display_data';\n",
              "          await google.colab.output.renderOutput(dataTable, element);\n",
              "          const docLink = document.createElement('div');\n",
              "          docLink.innerHTML = docLinkHtml;\n",
              "          element.appendChild(docLink);\n",
              "        }\n",
              "      </script>\n",
              "    </div>\n",
              "  </div>\n",
              "  "
            ],
            "text/plain": [
              "                     irradiation_forecast  temp_forecast  irradiation  \\\n",
              "Time                                                                    \n",
              "2017-01-01 00:00:00                   0.0      -2.115371     0.802334   \n",
              "2017-01-01 01:00:00                   0.0      -2.185371     1.000000   \n",
              "2017-01-01 02:00:00                   0.0      -2.265371     0.891393   \n",
              "2017-01-01 03:00:00                   0.0      -2.445371     0.837256   \n",
              "2017-01-01 04:00:00                   0.0      -2.845371     0.848814   \n",
              "\n",
              "                     temperature  power  \n",
              "Time                                     \n",
              "2017-01-01 00:00:00     0.720098    0.0  \n",
              "2017-01-01 01:00:00     1.154616    0.0  \n",
              "2017-01-01 02:00:00     1.304207    0.0  \n",
              "2017-01-01 03:00:00     1.079527    0.0  \n",
              "2017-01-01 04:00:00     0.649967    0.0  "
            ]
          },
          "metadata": {},
          "execution_count": 45
        }
      ]
    },
    {
      "cell_type": "code",
      "source": [
        "plt.figure(figsize=(20,15))\n",
        "plt.subplot(3,1,1)\n",
        "plt.title('Irradiation', fontsize=20)\n",
        "dataset['irradiation'].plot(fontsize=20)\n",
        "plt.subplot(3,1,2)\n",
        "plt.title('Temperature', fontsize=20)\n",
        "dataset['temperature'].plot(c='red')\n",
        "plt.subplot(3,1,3)\n",
        "plt.title('Power', fontsize=20)\n",
        "dataset['power'].plot(c='yellow')\n",
        "plt.tight_layout()"
      ],
      "metadata": {
        "colab": {
          "base_uri": "https://localhost:8080/",
          "height": 659
        },
        "id": "o1qBf4OvhJDp",
        "outputId": "86d332ab-b9b5-4932-f6d8-7bb4b119fd91"
      },
      "execution_count": null,
      "outputs": [
        {
          "output_type": "display_data",
          "data": {
            "image/png": "[encoded data removed]",
            "text/plain": [
              "<Figure size 1440x1080 with 3 Axes>"
            ]
          },
          "metadata": {
            "needs_background": "light"
          }
        }
      ]
    },
    {
      "cell_type": "markdown",
      "source": [
        "Coorelation"
      ],
      "metadata": {
        "id": "IrsZ0H9ABQWf"
      }
    },
    {
      "cell_type": "code",
      "source": [
        "dataset.corr()"
      ],
      "metadata": {
        "colab": {
          "base_uri": "https://localhost:8080/",
          "height": 206
        },
        "id": "JA2bdCaHByB5",
        "outputId": "0aede19a-95e9-4ea9-a971-2872788ade61"
      },
      "execution_count": null,
      "outputs": [
        {
          "output_type": "execute_result",
          "data": {
            "text/html": [
              "\n",
              "  <div id=\"df-1c67cf5c-4d0e-4eb0-ba79-77352fd301e5\">\n",
              "    <div class=\"colab-df-container\">\n",
              "      <div>\n",
              "<style scoped>\n",
              "    .dataframe tbody tr th:only-of-type {\n",
              "        vertical-align: middle;\n",
              "    }\n",
              "\n",
              "    .dataframe tbody tr th {\n",
              "        vertical-align: top;\n",
              "    }\n",
              "\n",
              "    .dataframe thead th {\n",
              "        text-align: right;\n",
              "    }\n",
              "</style>\n",
              "<table border=\"1\" class=\"dataframe\">\n",
              "  <thead>\n",
              "    <tr style=\"text-align: right;\">\n",
              "      <th></th>\n",
              "      <th>irradiation_forecast</th>\n",
              "      <th>temp_forecast</th>\n",
              "      <th>irradiation</th>\n",
              "      <th>temperature</th>\n",
              "      <th>power</th>\n",
              "    </tr>\n",
              "  </thead>\n",
              "  <tbody>\n",
              "    <tr>\n",
              "      <th>irradiation_forecast</th>\n",
              "      <td>1.000000</td>\n",
              "      <td>0.485005</td>\n",
              "      <td>0.756643</td>\n",
              "      <td>0.540436</td>\n",
              "      <td>0.760658</td>\n",
              "    </tr>\n",
              "    <tr>\n",
              "      <th>temp_forecast</th>\n",
              "      <td>0.485005</td>\n",
              "      <td>1.000000</td>\n",
              "      <td>0.384108</td>\n",
              "      <td>0.900647</td>\n",
              "      <td>0.351192</td>\n",
              "    </tr>\n",
              "    <tr>\n",
              "      <th>irradiation</th>\n",
              "      <td>0.756643</td>\n",
              "      <td>0.384108</td>\n",
              "      <td>1.000000</td>\n",
              "      <td>0.570378</td>\n",
              "      <td>0.963415</td>\n",
              "    </tr>\n",
              "    <tr>\n",
              "      <th>temperature</th>\n",
              "      <td>0.540436</td>\n",
              "      <td>0.900647</td>\n",
              "      <td>0.570378</td>\n",
              "      <td>1.000000</td>\n",
              "      <td>0.505344</td>\n",
              "    </tr>\n",
              "    <tr>\n",
              "      <th>power</th>\n",
              "      <td>0.760658</td>\n",
              "      <td>0.351192</td>\n",
              "      <td>0.963415</td>\n",
              "      <td>0.505344</td>\n",
              "      <td>1.000000</td>\n",
              "    </tr>\n",
              "  </tbody>\n",
              "</table>\n",
              "</div>\n",
              "      <button class=\"colab-df-convert\" onclick=\"convertToInteractive('df-1c67cf5c-4d0e-4eb0-ba79-77352fd301e5')\"\n",
              "              title=\"Convert this dataframe to an interactive table.\"\n",
              "              style=\"display:none;\">\n",
              "        \n",
              "  <svg xmlns=\"http://www.w3.org/2000/svg\" height=\"24px\"viewBox=\"0 0 24 24\"\n",
              "       width=\"24px\">\n",
              "    <path d=\"M0 0h24v24H0V0z\" fill=\"none\"/>\n",
              "    <path d=\"M18.56 5.44l.94 2.06.94-2.06 2.06-.94-2.06-.94-.94-2.06-.94 2.06-2.06.94zm-11 1L8.5 8.5l.94-2.06 2.06-.94-2.06-.94L8.5 2.5l-.94 2.06-2.06.94zm10 10l.94 2.06.94-2.06 2.06-.94-2.06-.94-.94-2.06-.94 2.06-2.06.94z\"/><path d=\"M17.41 7.96l-1.37-1.37c-.4-.4-.92-.59-1.43-.59-.52 0-1.04.2-1.43.59L10.3 9.45l-7.72 7.72c-.78.78-.78 2.05 0 2.83L4 21.41c.39.39.9.59 1.41.59.51 0 1.02-.2 1.41-.59l7.78-7.78 2.81-2.81c.8-.78.8-2.07 0-2.86zM5.41 20L4 18.59l7.72-7.72 1.47 1.35L5.41 20z\"/>\n",
              "  </svg>\n",
              "      </button>\n",
              "      \n",
              "  <style>\n",
              "    .colab-df-container {\n",
              "      display:flex;\n",
              "      flex-wrap:wrap;\n",
              "      gap: 12px;\n",
              "    }\n",
              "\n",
              "    .colab-df-convert {\n",
              "      background-color: #E8F0FE;\n",
              "      border: none;\n",
              "      border-radius: 50%;\n",
              "      cursor: pointer;\n",
              "      display: none;\n",
              "      fill: #1967D2;\n",
              "      height: 32px;\n",
              "      padding: 0 0 0 0;\n",
              "      width: 32px;\n",
              "    }\n",
              "\n",
              "    .colab-df-convert:hover {\n",
              "      background-color: #E2EBFA;\n",
              "      box-shadow: 0px 1px 2px rgba(60, 64, 67, 0.3), 0px 1px 3px 1px rgba(60, 64, 67, 0.15);\n",
              "      fill: #174EA6;\n",
              "    }\n",
              "\n",
              "    [theme=dark] .colab-df-convert {\n",
              "      background-color: #3B4455;\n",
              "      fill: #D2E3FC;\n",
              "    }\n",
              "\n",
              "    [theme=dark] .colab-df-convert:hover {\n",
              "      background-color: #434B5C;\n",
              "      box-shadow: 0px 1px 3px 1px rgba(0, 0, 0, 0.15);\n",
              "      filter: drop-shadow(0px 1px 2px rgba(0, 0, 0, 0.3));\n",
              "      fill: #FFFFFF;\n",
              "    }\n",
              "  </style>\n",
              "\n",
              "      <script>\n",
              "        const buttonEl =\n",
              "          document.querySelector('#df-1c67cf5c-4d0e-4eb0-ba79-77352fd301e5 button.colab-df-convert');\n",
              "        buttonEl.style.display =\n",
              "          google.colab.kernel.accessAllowed ? 'block' : 'none';\n",
              "\n",
              "        async function convertToInteractive(key) {\n",
              "          const element = document.querySelector('#df-1c67cf5c-4d0e-4eb0-ba79-77352fd301e5');\n",
              "          const dataTable =\n",
              "            await google.colab.kernel.invokeFunction('convertToInteractive',\n",
              "                                                     [key], {});\n",
              "          if (!dataTable) return;\n",
              "\n",
              "          const docLinkHtml = 'Like what you see? Visit the ' +\n",
              "            '<a target=\"_blank\" href=https://colab.research.google.com/notebooks/data_table.ipynb>data table notebook</a>'\n",
              "            + ' to learn more about interactive tables.';\n",
              "          element.innerHTML = '';\n",
              "          dataTable['output_type'] = 'display_data';\n",
              "          await google.colab.output.renderOutput(dataTable, element);\n",
              "          const docLink = document.createElement('div');\n",
              "          docLink.innerHTML = docLinkHtml;\n",
              "          element.appendChild(docLink);\n",
              "        }\n",
              "      </script>\n",
              "    </div>\n",
              "  </div>\n",
              "  "
            ],
            "text/plain": [
              "                      irradiation_forecast  temp_forecast  irradiation  \\\n",
              "irradiation_forecast              1.000000       0.485005     0.756643   \n",
              "temp_forecast                     0.485005       1.000000     0.384108   \n",
              "irradiation                       0.756643       0.384108     1.000000   \n",
              "temperature                       0.540436       0.900647     0.570378   \n",
              "power                             0.760658       0.351192     0.963415   \n",
              "\n",
              "                      temperature     power  \n",
              "irradiation_forecast     0.540436  0.760658  \n",
              "temp_forecast            0.900647  0.351192  \n",
              "irradiation              0.570378  0.963415  \n",
              "temperature              1.000000  0.505344  \n",
              "power                    0.505344  1.000000  "
            ]
          },
          "metadata": {},
          "execution_count": 47
        }
      ]
    },
    {
      "cell_type": "markdown",
      "source": [
        "Feature selection based on coorelation:\n",
        "\n",
        "Target var: Power\n",
        "\n",
        "Ind var: Irr_forecast, irradiation, forecast"
      ],
      "metadata": {
        "id": "UBXPsBm3XU48"
      }
    },
    {
      "cell_type": "markdown",
      "source": [
        "**Linear regression model**"
      ],
      "metadata": {
        "id": "zomjwatPYCJm"
      }
    },
    {
      "cell_type": "code",
      "source": [
        "X=dataset[['irradiation_forecast','temp_forecast','irradiation','temperature']]\n",
        "Y=dataset[['power']]"
      ],
      "metadata": {
        "id": "5XLh8L5MezTw"
      },
      "execution_count": null,
      "outputs": []
    },
    {
      "cell_type": "code",
      "source": [
        "X=X.values\n",
        "Y=Y.values\n",
        "# ensure all data is float\n",
        "X = X.astype('float32')\n",
        "Y=Y.astype('float32')\n",
        "# normalize features\n",
        "scaler = MinMaxScaler(feature_range=(0, 1))\n",
        "scaled = scaler.fit_transform(X,Y)"
      ],
      "metadata": {
        "id": "kfAECL2VfuLv"
      },
      "execution_count": null,
      "outputs": []
    },
    {
      "cell_type": "code",
      "source": [
        "from sklearn import linear_model\n",
        "lm=linear_model.LinearRegression()"
      ],
      "metadata": {
        "id": "jiEO1GNqBx_B"
      },
      "execution_count": null,
      "outputs": []
    },
    {
      "cell_type": "code",
      "source": [
        "train_x=X[0:24*365*3]\n",
        "train_y=Y[0:24*365*3]\n",
        "\n",
        "test_x=X[24*365*3:24*365*4]\n",
        "test_y=Y[24*365*3:24*365*4]"
      ],
      "metadata": {
        "id": "lcQEbkJCZMDp"
      },
      "execution_count": null,
      "outputs": []
    },
    {
      "cell_type": "code",
      "source": [
        "lm.fit(train_x,train_y)\n",
        "y_predict=lm.predict(test_x)\n",
        "\n",
        "print('r2 score: ',metrics.r2_score(y_predict,test_y))\n",
        "print('RMSE: ',np.sqrt(metrics.mean_squared_error(y_predict,test_y)))"
      ],
      "metadata": {
        "colab": {
          "base_uri": "https://localhost:8080/"
        },
        "id": "VzvTjCcyq3AU",
        "outputId": "31ed6e5e-a917-4980-97e0-a1c61faf68d6"
      },
      "execution_count": null,
      "outputs": [
        {
          "output_type": "stream",
          "name": "stdout",
          "text": [
            "r2 score:  0.9495209334219327\n",
            "RMSE:  249.12837\n"
          ]
        }
      ]
    },
    {
      "cell_type": "markdown",
      "source": [
        "**Lasso Model**"
      ],
      "metadata": {
        "id": "BpORbyikqNAk"
      }
    },
    {
      "cell_type": "code",
      "source": [
        "reg = linear_model.Lasso(alpha=0.5)\n",
        "reg.fit(train_x,train_y)\n",
        "y_predict=reg.predict(test_x)\n",
        "print('r2 score: ',metrics.r2_score(y_predict,test_y))\n",
        "print('RMSE: ',np.sqrt(metrics.mean_squared_error(y_predict,test_y)))"
      ],
      "metadata": {
        "colab": {
          "base_uri": "https://localhost:8080/"
        },
        "id": "IfU6Se-VZMAN",
        "outputId": "ccf7a3fb-f231-4142-abcc-af3071c057b0"
      },
      "execution_count": null,
      "outputs": [
        {
          "output_type": "stream",
          "name": "stdout",
          "text": [
            "r2 score:  0.9494789136363553\n",
            "RMSE:  249.03334\n"
          ]
        }
      ]
    },
    {
      "cell_type": "markdown",
      "source": [
        "**LSTM**"
      ],
      "metadata": {
        "id": "Hgs4YCPvza0p"
      }
    },
    {
      "cell_type": "code",
      "source": [
        "# convert series to supervised learning\n",
        "def series_to_supervised(data, n_in=1, n_out=1, dropnan=True):\n",
        "\tn_vars = 1 if type(data) is list else data.shape[1]\n",
        "\tdf = pd.DataFrame(data)\n",
        "\tcols, names = list(), list()\n",
        "\t# input sequence (t-n, ... t-1)\n",
        "\tfor i in range(n_in, 0, -1):\n",
        "\t\tcols.append(df.shift(i))\n",
        "\t\tnames += [('var%d(t-%d)' % (j+1, i)) for j in range(n_vars)]\n",
        "\t# forecast sequence (t, t+1, ... t+n)\n",
        "\tfor i in range(0, n_out):\n",
        "\t\tcols.append(df.shift(-i))\n",
        "\t\tif i == 0:\n",
        "\t\t\tnames += [('var%d(t)' % (j+1)) for j in range(n_vars)]\n",
        "\t\telse:\n",
        "\t\t\tnames += [('var%d(t+%d)' % (j+1, i)) for j in range(n_vars)]\n",
        "\t# put it all together\n",
        "\tagg = pd.concat(cols, axis=1)\n",
        "\tagg.columns = names\n",
        "\t# drop rows with NaN values\n",
        "\tif dropnan:\n",
        "\t\tagg.dropna(inplace=True)\n",
        "\treturn agg"
      ],
      "metadata": {
        "id": "KsmRj7Oaq-Yj"
      },
      "execution_count": null,
      "outputs": []
    },
    {
      "cell_type": "code",
      "source": [
        "values = dataset.values\n",
        "# ensure all data is float\n",
        "values = values.astype('float32')\n",
        "# normalize features\n",
        "scaler = MinMaxScaler(feature_range=(0, 1))\n",
        "scaled = scaler.fit_transform(values)\n",
        "# frame as supervised learning\n",
        "reframed = series_to_supervised(scaled, 3, 1)"
      ],
      "metadata": {
        "id": "5moF_B4qz9sn"
      },
      "execution_count": null,
      "outputs": []
    },
    {
      "cell_type": "code",
      "source": [
        "# drop columns we don't want to predict\n",
        "reframed.drop([\"var1(t)\",'var2(t)','var3(t)',\"var4(t)\"], axis=1,inplace=True)\n",
        "print(reframed.head())\n",
        " \n",
        "# split into train and test sets\n",
        "values = reframed.values\n",
        "n_train_hours = 365 * 24 *3\n",
        "train = values[:n_train_hours, :]\n",
        "test = values[n_train_hours:, :]\n",
        "# split into input and outputs\n",
        "train_X, train_y = train[:, :-1], train[:, -1]\n",
        "test_X, test_y = test[:, :-1], test[:, -1]\n",
        "# reshape input to be 3D [samples, timesteps, features]\n",
        "train_X = train_X.reshape((train_X.shape[0], 1, train_X.shape[1]))\n",
        "test_X = test_X.reshape((test_X.shape[0], 1, test_X.shape[1]))\n",
        "print(train_X.shape, train_y.shape, test_X.shape, test_y.shape)"
      ],
      "metadata": {
        "colab": {
          "base_uri": "https://localhost:8080/"
        },
        "id": "h8IFE3Ohzjc6",
        "outputId": "7d1f9af6-a207-4ca2-b63f-2ac2022bea80"
      },
      "execution_count": null,
      "outputs": [
        {
          "output_type": "stream",
          "name": "stdout",
          "text": [
            "   var1(t-3)  var2(t-3)  var3(t-3)  var4(t-3)  var5(t-3)  var1(t-2)  \\\n",
            "3   0.010271   0.200948   0.000692   0.258640        0.0   0.010271   \n",
            "4   0.010271   0.199505   0.000862   0.266671        0.0   0.010271   \n",
            "5   0.010271   0.197857   0.000768   0.269436        0.0   0.010271   \n",
            "6   0.010271   0.194147   0.000722   0.265284        0.0   0.010271   \n",
            "7   0.010271   0.185903   0.000732   0.257344        0.0   0.010271   \n",
            "\n",
            "   var2(t-2)  var3(t-2)  var4(t-2)  var5(t-2)  var1(t-1)  var2(t-1)  \\\n",
            "3   0.199505   0.000862   0.266671        0.0   0.010271   0.197857   \n",
            "4   0.197857   0.000768   0.269436        0.0   0.010271   0.194147   \n",
            "5   0.194147   0.000722   0.265284        0.0   0.010271   0.185903   \n",
            "6   0.185903   0.000732   0.257344        0.0   0.010271   0.180132   \n",
            "7   0.180132   0.000724   0.247427        0.0   0.010271   0.176010   \n",
            "\n",
            "   var3(t-1)  var4(t-1)  var5(t-1)  var5(t)  \n",
            "3   0.000768   0.269436        0.0      0.0  \n",
            "4   0.000722   0.265284        0.0      0.0  \n",
            "5   0.000732   0.257344        0.0      0.0  \n",
            "6   0.000724   0.247427        0.0      0.0  \n",
            "7   0.000568   0.241609        0.0      0.0  \n",
            "(26280, 1, 15) (26280,) (10437, 1, 15) (10437,)\n"
          ]
        }
      ]
    },
    {
      "cell_type": "code",
      "source": [
        "# design network\n",
        "model = Sequential()\n",
        "model.add(LSTM(50, input_shape=(train_X.shape[1], train_X.shape[2])))\n",
        "model.add(Dense(1))\n",
        "model.compile(loss='mae', optimizer='adam')\n",
        "# fit network\n",
        "history = model.fit(train_X, train_y, epochs=50, batch_size=72, validation_data=(test_X, test_y), verbose=2, shuffle=False)\n",
        "# plot history\n",
        "pyplot.plot(history.history['loss'], label='train')\n",
        "pyplot.plot(history.history['val_loss'], label='test')\n",
        "pyplot.legend()\n",
        "pyplot.show()"
      ],
      "metadata": {
        "colab": {
          "base_uri": "https://localhost:8080/",
          "height": 1000
        },
        "id": "HjtZ8CJ10y2Q",
        "outputId": "59551d42-9a0c-40b5-c1eb-bb10280e8a8b"
      },
      "execution_count": null,
      "outputs": [
        {
          "output_type": "stream",
          "name": "stdout",
          "text": [
            "Epoch 1/50\n",
            "365/365 - 4s - loss: 0.0601 - val_loss: 0.0506 - 4s/epoch - 10ms/step\n",
            "Epoch 2/50\n",
            "365/365 - 1s - loss: 0.0436 - val_loss: 0.0511 - 1s/epoch - 3ms/step\n",
            "Epoch 3/50\n",
            "365/365 - 1s - loss: 0.0419 - val_loss: 0.0496 - 1s/epoch - 3ms/step\n",
            "Epoch 4/50\n",
            "365/365 - 1s - loss: 0.0409 - val_loss: 0.0478 - 1s/epoch - 3ms/step\n",
            "Epoch 5/50\n",
            "365/365 - 1s - loss: 0.0404 - val_loss: 0.0479 - 1s/epoch - 3ms/step\n",
            "Epoch 6/50\n",
            "365/365 - 1s - loss: 0.0399 - val_loss: 0.0492 - 1s/epoch - 3ms/step\n",
            "Epoch 7/50\n",
            "365/365 - 1s - loss: 0.0397 - val_loss: 0.0494 - 1s/epoch - 4ms/step\n",
            "Epoch 8/50\n",
            "365/365 - 1s - loss: 0.0395 - val_loss: 0.0498 - 1s/epoch - 3ms/step\n",
            "Epoch 9/50\n",
            "365/365 - 1s - loss: 0.0391 - val_loss: 0.0487 - 1s/epoch - 3ms/step\n",
            "Epoch 10/50\n",
            "365/365 - 1s - loss: 0.0388 - val_loss: 0.0482 - 1s/epoch - 3ms/step\n",
            "Epoch 11/50\n",
            "365/365 - 1s - loss: 0.0385 - val_loss: 0.0468 - 1s/epoch - 3ms/step\n",
            "Epoch 12/50\n",
            "365/365 - 1s - loss: 0.0382 - val_loss: 0.0459 - 1s/epoch - 3ms/step\n",
            "Epoch 13/50\n",
            "365/365 - 1s - loss: 0.0378 - val_loss: 0.0460 - 1s/epoch - 3ms/step\n",
            "Epoch 14/50\n",
            "365/365 - 1s - loss: 0.0374 - val_loss: 0.0446 - 1s/epoch - 3ms/step\n",
            "Epoch 15/50\n",
            "365/365 - 1s - loss: 0.0371 - val_loss: 0.0458 - 1s/epoch - 3ms/step\n",
            "Epoch 16/50\n",
            "365/365 - 1s - loss: 0.0369 - val_loss: 0.0455 - 1s/epoch - 3ms/step\n",
            "Epoch 17/50\n",
            "365/365 - 1s - loss: 0.0367 - val_loss: 0.0444 - 1s/epoch - 3ms/step\n",
            "Epoch 18/50\n",
            "365/365 - 1s - loss: 0.0366 - val_loss: 0.0432 - 1s/epoch - 3ms/step\n",
            "Epoch 19/50\n",
            "365/365 - 1s - loss: 0.0363 - val_loss: 0.0436 - 1s/epoch - 3ms/step\n",
            "Epoch 20/50\n",
            "365/365 - 1s - loss: 0.0361 - val_loss: 0.0441 - 1s/epoch - 3ms/step\n",
            "Epoch 21/50\n",
            "365/365 - 1s - loss: 0.0359 - val_loss: 0.0425 - 997ms/epoch - 3ms/step\n",
            "Epoch 22/50\n",
            "365/365 - 1s - loss: 0.0358 - val_loss: 0.0431 - 1s/epoch - 3ms/step\n",
            "Epoch 23/50\n",
            "365/365 - 1s - loss: 0.0357 - val_loss: 0.0440 - 1s/epoch - 4ms/step\n",
            "Epoch 24/50\n",
            "365/365 - 1s - loss: 0.0357 - val_loss: 0.0419 - 1s/epoch - 3ms/step\n",
            "Epoch 25/50\n",
            "365/365 - 1s - loss: 0.0356 - val_loss: 0.0428 - 1s/epoch - 3ms/step\n",
            "Epoch 26/50\n",
            "365/365 - 1s - loss: 0.0355 - val_loss: 0.0414 - 1s/epoch - 3ms/step\n",
            "Epoch 27/50\n",
            "365/365 - 1s - loss: 0.0355 - val_loss: 0.0414 - 1s/epoch - 3ms/step\n",
            "Epoch 28/50\n",
            "365/365 - 1s - loss: 0.0353 - val_loss: 0.0428 - 1s/epoch - 3ms/step\n",
            "Epoch 29/50\n",
            "365/365 - 1s - loss: 0.0352 - val_loss: 0.0421 - 1s/epoch - 3ms/step\n",
            "Epoch 30/50\n",
            "365/365 - 1s - loss: 0.0351 - val_loss: 0.0412 - 1s/epoch - 3ms/step\n",
            "Epoch 31/50\n",
            "365/365 - 1s - loss: 0.0352 - val_loss: 0.0408 - 1s/epoch - 3ms/step\n",
            "Epoch 32/50\n",
            "365/365 - 1s - loss: 0.0351 - val_loss: 0.0406 - 1s/epoch - 3ms/step\n",
            "Epoch 33/50\n",
            "365/365 - 1s - loss: 0.0349 - val_loss: 0.0419 - 1s/epoch - 3ms/step\n",
            "Epoch 34/50\n",
            "365/365 - 1s - loss: 0.0349 - val_loss: 0.0405 - 1s/epoch - 3ms/step\n",
            "Epoch 35/50\n",
            "365/365 - 1s - loss: 0.0348 - val_loss: 0.0407 - 1s/epoch - 3ms/step\n",
            "Epoch 36/50\n",
            "365/365 - 1s - loss: 0.0348 - val_loss: 0.0400 - 1s/epoch - 3ms/step\n",
            "Epoch 37/50\n",
            "365/365 - 1s - loss: 0.0348 - val_loss: 0.0396 - 1s/epoch - 3ms/step\n",
            "Epoch 38/50\n",
            "365/365 - 1s - loss: 0.0345 - val_loss: 0.0396 - 1s/epoch - 3ms/step\n",
            "Epoch 39/50\n",
            "365/365 - 1s - loss: 0.0346 - val_loss: 0.0398 - 1s/epoch - 3ms/step\n",
            "Epoch 40/50\n",
            "365/365 - 1s - loss: 0.0344 - val_loss: 0.0395 - 1s/epoch - 3ms/step\n",
            "Epoch 41/50\n",
            "365/365 - 1s - loss: 0.0344 - val_loss: 0.0389 - 1s/epoch - 3ms/step\n",
            "Epoch 42/50\n",
            "365/365 - 1s - loss: 0.0343 - val_loss: 0.0397 - 1s/epoch - 3ms/step\n",
            "Epoch 43/50\n",
            "365/365 - 1s - loss: 0.0343 - val_loss: 0.0393 - 1s/epoch - 3ms/step\n",
            "Epoch 44/50\n",
            "365/365 - 1s - loss: 0.0342 - val_loss: 0.0383 - 1s/epoch - 3ms/step\n",
            "Epoch 45/50\n",
            "365/365 - 1s - loss: 0.0341 - val_loss: 0.0379 - 1s/epoch - 3ms/step\n",
            "Epoch 46/50\n",
            "365/365 - 1s - loss: 0.0340 - val_loss: 0.0381 - 1s/epoch - 3ms/step\n",
            "Epoch 47/50\n",
            "365/365 - 1s - loss: 0.0339 - val_loss: 0.0382 - 1s/epoch - 3ms/step\n",
            "Epoch 48/50\n",
            "365/365 - 1s - loss: 0.0339 - val_loss: 0.0380 - 1s/epoch - 3ms/step\n",
            "Epoch 49/50\n",
            "365/365 - 1s - loss: 0.0338 - val_loss: 0.0391 - 1s/epoch - 3ms/step\n",
            "Epoch 50/50\n",
            "365/365 - 1s - loss: 0.0338 - val_loss: 0.0377 - 1s/epoch - 3ms/step\n"
          ]
        },
        {
          "output_type": "display_data",
          "data": {
            "image/png": "[encoded data removed]",
            "text/plain": [
              "<Figure size 432x288 with 1 Axes>"
            ]
          },
          "metadata": {
            "needs_background": "light"
          }
        }
      ]
    },
    {
      "cell_type": "code",
      "source": [
        "pr=model.predict(test_X)\n",
        "print(\"RMSE: \",np.sqrt(metrics.mean_squared_error(pr,test_y)))\n",
        "print(\"MAE: \",metrics.mean_absolute_error(pr,test_y))"
      ],
      "metadata": {
        "colab": {
          "base_uri": "https://localhost:8080/"
        },
        "id": "4PaACk7m1MI3",
        "outputId": "75a9e87a-bfa2-4226-e2ea-96f98c24140b"
      },
      "execution_count": null,
      "outputs": [
        {
          "output_type": "stream",
          "name": "stdout",
          "text": [
            "RMSE:  0.080988005\n",
            "MAE:  0.037723634\n"
          ]
        }
      ]
    },
    {
      "cell_type": "markdown",
      "source": [
        "**Clustering**"
      ],
      "metadata": {
        "id": "Q1B62NnY4B0l"
      }
    },
    {
      "cell_type": "code",
      "source": [
        "pip install tslearn"
      ],
      "metadata": {
        "colab": {
          "base_uri": "https://localhost:8080/"
        },
        "id": "bJ8TmIMsav2I",
        "outputId": "38853f6d-5470-4301-c112-74f469b9df82"
      },
      "execution_count": null,
      "outputs": [
        {
          "output_type": "stream",
          "name": "stdout",
          "text": [
            "Looking in indexes: https://pypi.org/simple, https://us-python.pkg.dev/colab-wheels/public/simple/\n",
            "Collecting tslearn\n",
            "  Downloading tslearn-0.5.2-cp37-cp37m-manylinux_2_5_x86_64.manylinux1_x86_64.manylinux_2_12_x86_64.manylinux2010_x86_64.whl (793 kB)\n",
            "\u001b[K     |████████████████████████████████| 793 kB 4.9 MB/s \n",
            "\u001b[?25hRequirement already satisfied: scipy in /usr/local/lib/python3.7/dist-packages (from tslearn) (1.4.1)\n",
            "Requirement already satisfied: scikit-learn in /usr/local/lib/python3.7/dist-packages (from tslearn) (1.0.2)\n",
            "Requirement already satisfied: numpy in /usr/local/lib/python3.7/dist-packages (from tslearn) (1.21.6)\n",
            "Requirement already satisfied: numba in /usr/local/lib/python3.7/dist-packages (from tslearn) (0.51.2)\n",
            "Requirement already satisfied: joblib in /usr/local/lib/python3.7/dist-packages (from tslearn) (1.1.0)\n",
            "Requirement already satisfied: Cython in /usr/local/lib/python3.7/dist-packages (from tslearn) (0.29.30)\n",
            "Requirement already satisfied: llvmlite<0.35,>=0.34.0.dev0 in /usr/local/lib/python3.7/dist-packages (from numba->tslearn) (0.34.0)\n",
            "Requirement already satisfied: setuptools in /usr/local/lib/python3.7/dist-packages (from numba->tslearn) (57.4.0)\n",
            "Requirement already satisfied: threadpoolctl>=2.0.0 in /usr/local/lib/python3.7/dist-packages (from scikit-learn->tslearn) (3.1.0)\n",
            "Installing collected packages: tslearn\n",
            "Successfully installed tslearn-0.5.2\n"
          ]
        }
      ]
    },
    {
      "cell_type": "code",
      "source": [
        "from tslearn.metrics import dtw\n",
        "dtw_score = dtw(x, y)"
      ],
      "metadata": {
        "id": "qnyEnABCdwo_",
        "colab": {
          "base_uri": "https://localhost:8080/",
          "height": 183
        },
        "outputId": "84726d9d-7b5d-4a16-8150-a3484d9ddf94"
      },
      "execution_count": null,
      "outputs": [
        {
          "output_type": "error",
          "ename": "NameError",
          "evalue": "ignored",
          "traceback": [
            "\u001b[0;31m---------------------------------------------------------------------------\u001b[0m",
            "\u001b[0;31mNameError\u001b[0m                                 Traceback (most recent call last)",
            "\u001b[0;32m<ipython-input-3-ae210bad0f51>\u001b[0m in \u001b[0;36m<module>\u001b[0;34m()\u001b[0m\n\u001b[1;32m      1\u001b[0m \u001b[0;32mfrom\u001b[0m \u001b[0mtslearn\u001b[0m\u001b[0;34m.\u001b[0m\u001b[0mmetrics\u001b[0m \u001b[0;32mimport\u001b[0m \u001b[0mdtw\u001b[0m\u001b[0;34m\u001b[0m\u001b[0;34m\u001b[0m\u001b[0m\n\u001b[0;32m----> 2\u001b[0;31m \u001b[0mdtw_score\u001b[0m \u001b[0;34m=\u001b[0m \u001b[0mdtw\u001b[0m\u001b[0;34m(\u001b[0m\u001b[0mx\u001b[0m\u001b[0;34m,\u001b[0m \u001b[0my\u001b[0m\u001b[0;34m)\u001b[0m\u001b[0;34m\u001b[0m\u001b[0;34m\u001b[0m\u001b[0m\n\u001b[0m",
            "\u001b[0;31mNameError\u001b[0m: name 'x' is not defined"
          ]
        }
      ]
    },
    {
      "cell_type": "code",
      "source": [
        "from tslearn.metrics import soft_dtw\n",
        "soft_dtw_score = soft_dtw(x, y, gamma=.1)"
      ],
      "metadata": {
        "id": "ky-32SaOalrZ"
      },
      "execution_count": null,
      "outputs": []
    },
    {
      "cell_type": "code",
      "source": [
        "from tslearn.clustering import TimeSeriesKMeans\n",
        "model = TimeSeriesKMeans(n_clusters=3, metric=\"dtw\", max_iter=10)\n",
        "model.fit(dataset)"
      ],
      "metadata": {
        "colab": {
          "base_uri": "https://localhost:8080/",
          "height": 346
        },
        "id": "EWhlpyyvaoc7",
        "outputId": "b10a1c91-7024-4550-d55e-cba0e751bc1d"
      },
      "execution_count": null,
      "outputs": [
        {
          "output_type": "error",
          "ename": "ValueError",
          "evalue": "ignored",
          "traceback": [
            "\u001b[0;31m---------------------------------------------------------------------------\u001b[0m",
            "\u001b[0;31mValueError\u001b[0m                                Traceback (most recent call last)",
            "\u001b[0;32m<ipython-input-7-d61f7b694296>\u001b[0m in \u001b[0;36m<module>\u001b[0;34m()\u001b[0m\n\u001b[1;32m      1\u001b[0m \u001b[0;32mfrom\u001b[0m \u001b[0mtslearn\u001b[0m\u001b[0;34m.\u001b[0m\u001b[0mclustering\u001b[0m \u001b[0;32mimport\u001b[0m \u001b[0mTimeSeriesKMeans\u001b[0m\u001b[0;34m\u001b[0m\u001b[0;34m\u001b[0m\u001b[0m\n\u001b[1;32m      2\u001b[0m \u001b[0mmodel\u001b[0m \u001b[0;34m=\u001b[0m \u001b[0mTimeSeriesKMeans\u001b[0m\u001b[0;34m(\u001b[0m\u001b[0mn_clusters\u001b[0m\u001b[0;34m=\u001b[0m\u001b[0;36m3\u001b[0m\u001b[0;34m,\u001b[0m \u001b[0mmetric\u001b[0m\u001b[0;34m=\u001b[0m\u001b[0;34m\"dtw\"\u001b[0m\u001b[0;34m,\u001b[0m \u001b[0mmax_iter\u001b[0m\u001b[0;34m=\u001b[0m\u001b[0;36m10\u001b[0m\u001b[0;34m)\u001b[0m\u001b[0;34m\u001b[0m\u001b[0;34m\u001b[0m\u001b[0m\n\u001b[0;32m----> 3\u001b[0;31m \u001b[0mmodel\u001b[0m\u001b[0;34m.\u001b[0m\u001b[0mfit\u001b[0m\u001b[0;34m(\u001b[0m\u001b[0mdataset\u001b[0m\u001b[0;34m)\u001b[0m\u001b[0;34m\u001b[0m\u001b[0;34m\u001b[0m\u001b[0m\n\u001b[0m",
            "\u001b[0;32m/usr/local/lib/python3.7/dist-packages/tslearn/clustering/kmeans.py\u001b[0m in \u001b[0;36mfit\u001b[0;34m(self, X, y)\u001b[0m\n\u001b[1;32m    739\u001b[0m         \"\"\"\n\u001b[1;32m    740\u001b[0m \u001b[0;34m\u001b[0m\u001b[0m\n\u001b[0;32m--> 741\u001b[0;31m         \u001b[0mX\u001b[0m \u001b[0;34m=\u001b[0m \u001b[0mcheck_array\u001b[0m\u001b[0;34m(\u001b[0m\u001b[0mX\u001b[0m\u001b[0;34m,\u001b[0m \u001b[0mallow_nd\u001b[0m\u001b[0;34m=\u001b[0m\u001b[0;32mTrue\u001b[0m\u001b[0;34m,\u001b[0m \u001b[0mforce_all_finite\u001b[0m\u001b[0;34m=\u001b[0m\u001b[0;34m'allow-nan'\u001b[0m\u001b[0;34m)\u001b[0m\u001b[0;34m\u001b[0m\u001b[0;34m\u001b[0m\u001b[0m\n\u001b[0m\u001b[1;32m    742\u001b[0m \u001b[0;34m\u001b[0m\u001b[0m\n\u001b[1;32m    743\u001b[0m         \u001b[0;32mif\u001b[0m \u001b[0mhasattr\u001b[0m\u001b[0;34m(\u001b[0m\u001b[0mself\u001b[0m\u001b[0;34m.\u001b[0m\u001b[0minit\u001b[0m\u001b[0;34m,\u001b[0m \u001b[0;34m'__array__'\u001b[0m\u001b[0;34m)\u001b[0m\u001b[0;34m:\u001b[0m\u001b[0;34m\u001b[0m\u001b[0;34m\u001b[0m\u001b[0m\n",
            "\u001b[0;32m/usr/local/lib/python3.7/dist-packages/sklearn/utils/validation.py\u001b[0m in \u001b[0;36mcheck_array\u001b[0;34m(array, accept_sparse, accept_large_sparse, dtype, order, copy, force_all_finite, ensure_2d, allow_nd, ensure_min_samples, ensure_min_features, estimator)\u001b[0m\n\u001b[1;32m    744\u001b[0m                     \u001b[0marray\u001b[0m \u001b[0;34m=\u001b[0m \u001b[0marray\u001b[0m\u001b[0;34m.\u001b[0m\u001b[0mastype\u001b[0m\u001b[0;34m(\u001b[0m\u001b[0mdtype\u001b[0m\u001b[0;34m,\u001b[0m \u001b[0mcasting\u001b[0m\u001b[0;34m=\u001b[0m\u001b[0;34m\"unsafe\"\u001b[0m\u001b[0;34m,\u001b[0m \u001b[0mcopy\u001b[0m\u001b[0;34m=\u001b[0m\u001b[0;32mFalse\u001b[0m\u001b[0;34m)\u001b[0m\u001b[0;34m\u001b[0m\u001b[0;34m\u001b[0m\u001b[0m\n\u001b[1;32m    745\u001b[0m                 \u001b[0;32melse\u001b[0m\u001b[0;34m:\u001b[0m\u001b[0;34m\u001b[0m\u001b[0;34m\u001b[0m\u001b[0m\n\u001b[0;32m--> 746\u001b[0;31m                     \u001b[0marray\u001b[0m \u001b[0;34m=\u001b[0m \u001b[0mnp\u001b[0m\u001b[0;34m.\u001b[0m\u001b[0masarray\u001b[0m\u001b[0;34m(\u001b[0m\u001b[0marray\u001b[0m\u001b[0;34m,\u001b[0m \u001b[0morder\u001b[0m\u001b[0;34m=\u001b[0m\u001b[0morder\u001b[0m\u001b[0;34m,\u001b[0m \u001b[0mdtype\u001b[0m\u001b[0;34m=\u001b[0m\u001b[0mdtype\u001b[0m\u001b[0;34m)\u001b[0m\u001b[0;34m\u001b[0m\u001b[0;34m\u001b[0m\u001b[0m\n\u001b[0m\u001b[1;32m    747\u001b[0m             \u001b[0;32mexcept\u001b[0m \u001b[0mComplexWarning\u001b[0m \u001b[0;32mas\u001b[0m \u001b[0mcomplex_warning\u001b[0m\u001b[0;34m:\u001b[0m\u001b[0;34m\u001b[0m\u001b[0;34m\u001b[0m\u001b[0m\n\u001b[1;32m    748\u001b[0m                 raise ValueError(\n",
            "\u001b[0;32m/usr/local/lib/python3.7/dist-packages/pandas/core/generic.py\u001b[0m in \u001b[0;36m__array__\u001b[0;34m(self, dtype)\u001b[0m\n\u001b[1;32m   1991\u001b[0m \u001b[0;34m\u001b[0m\u001b[0m\n\u001b[1;32m   1992\u001b[0m     \u001b[0;32mdef\u001b[0m \u001b[0m__array__\u001b[0m\u001b[0;34m(\u001b[0m\u001b[0mself\u001b[0m\u001b[0;34m,\u001b[0m \u001b[0mdtype\u001b[0m\u001b[0;34m:\u001b[0m \u001b[0mNpDtype\u001b[0m \u001b[0;34m|\u001b[0m \u001b[0;32mNone\u001b[0m \u001b[0;34m=\u001b[0m \u001b[0;32mNone\u001b[0m\u001b[0;34m)\u001b[0m \u001b[0;34m->\u001b[0m \u001b[0mnp\u001b[0m\u001b[0;34m.\u001b[0m\u001b[0mndarray\u001b[0m\u001b[0;34m:\u001b[0m\u001b[0;34m\u001b[0m\u001b[0;34m\u001b[0m\u001b[0m\n\u001b[0;32m-> 1993\u001b[0;31m         \u001b[0;32mreturn\u001b[0m \u001b[0mnp\u001b[0m\u001b[0;34m.\u001b[0m\u001b[0masarray\u001b[0m\u001b[0;34m(\u001b[0m\u001b[0mself\u001b[0m\u001b[0;34m.\u001b[0m\u001b[0m_values\u001b[0m\u001b[0;34m,\u001b[0m \u001b[0mdtype\u001b[0m\u001b[0;34m=\u001b[0m\u001b[0mdtype\u001b[0m\u001b[0;34m)\u001b[0m\u001b[0;34m\u001b[0m\u001b[0;34m\u001b[0m\u001b[0m\n\u001b[0m\u001b[1;32m   1994\u001b[0m \u001b[0;34m\u001b[0m\u001b[0m\n\u001b[1;32m   1995\u001b[0m     def __array_wrap__(\n",
            "\u001b[0;31mValueError\u001b[0m: could not convert string to float: '01-01-17 00'"
          ]
        }
      ]
    },
    {
      "cell_type": "code",
      "source": [
        ""
      ],
      "metadata": {
        "id": "8YXDn4hCcIOP"
      },
      "execution_count": null,
      "outputs": []
    }
  ]
}