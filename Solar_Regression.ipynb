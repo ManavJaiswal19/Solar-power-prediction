{
  "cells": [
    {
      "cell_type": "code",
      "execution_count": null,
      "metadata": {
        "id": "4uspKo8KwwpW"
      },
      "outputs": [],
      "source": [
        "from math import sqrt\n",
        "from numpy import concatenate\n",
        "from matplotlib import pyplot\n",
        "from pandas import read_csv\n",
        "from pandas import DataFrame\n",
        "from pandas import concat\n",
        "from sklearn.preprocessing import MinMaxScaler\n",
        "from sklearn.preprocessing import LabelEncoder\n",
        "from sklearn.metrics import mean_squared_error\n",
        "from keras.models import Sequential\n",
        "from keras.layers import Dense\n",
        "from keras.layers import LSTM\n",
        "import sklearn\n",
        "import pandas as pd "
      ]
    },
    {
      "cell_type": "code",
      "execution_count": null,
      "metadata": {
        "id": "H7c25vO7wwpi"
      },
      "outputs": [],
      "source": [
        "dataset = pd.read_csv('time_series solar-dataset.csv', header=0, index_col=0)"
      ]
    },
    {
      "cell_type": "code",
      "execution_count": null,
      "metadata": {
        "id": "A8IgKbyAwwpk",
        "outputId": "9a31751a-25f5-468f-e989-7f4b231ea5e3"
      },
      "outputs": [
        {
          "name": "stdout",
          "output_type": "stream",
          "text": [
            "             variables1  variables2  variables3  variables4  variables5\n",
            "Time                                                                   \n",
            "01-01-17 00    0.000000   -2.115371    0.802334    0.720098         0.0\n",
            "01-01-17 01    0.000000   -2.185371    1.000000    1.154616         0.0\n",
            "01-01-17 02    0.000000   -2.265371    0.891393    1.304207         0.0\n",
            "01-01-17 03    0.000000   -2.445371    0.837256    1.079527         0.0\n",
            "01-01-17 04    0.000000   -2.845371    0.848814    0.649967         0.0\n",
            "...                 ...         ...         ...         ...         ...\n",
            "10-03-21 19   19.610334    4.694629    0.770375    3.713455         0.0\n",
            "10-03-21 20    0.000000    3.454629    0.987695    2.694212         0.0\n",
            "10-03-21 21    0.000000    2.124629    0.987637    1.834956         0.0\n",
            "10-03-21 22    0.000000    1.034629    0.993837    1.209808         0.0\n",
            "10-03-21 23    0.000000    0.264629    0.987654    0.613663         0.0\n",
            "\n",
            "[36720 rows x 5 columns]\n",
            "             variables1  variables2  variables3  variables4  variables5\n",
            "Time                                                                   \n",
            "10-03-21 22         0.0    1.034629    0.993837    1.209808         0.0\n"
          ]
        }
      ],
      "source": [
        "print(dataset)\n",
        "print(dataset.iloc[[36718]])"
      ]
    },
    {
      "cell_type": "code",
      "execution_count": null,
      "metadata": {
        "id": "4u8QZ-cpwwpn"
      },
      "outputs": [],
      "source": [
        "from sklearn.model_selection import train_test_split\n",
        "X=dataset.iloc[:,:-1].values\n",
        "y=dataset.iloc[:,-1].values\n",
        "X_train, X_test, y_train, y_test = train_test_split(X, y, test_size=0.2, random_state=42)"
      ]
    },
    {
      "cell_type": "code",
      "execution_count": null,
      "metadata": {
        "id": "hNOHDTGQwwpo"
      },
      "outputs": [],
      "source": [
        "from sklearn.metrics import mean_squared_error\n",
        "from sklearn.metrics import r2_score\n",
        "from sklearn.metrics import mean_absolute_error "
      ]
    },
    {
      "cell_type": "code",
      "execution_count": null,
      "metadata": {
        "id": "cbITQdkjwwpq",
        "outputId": "917faac6-3e8d-4cc2-c6ca-a7dcec52cf84"
      },
      "outputs": [
        {
          "name": "stdout",
          "output_type": "stream",
          "text": [
            "mean squared error:  80092.22206539889\n",
            "R2 error:  0.9339875018590165\n",
            "Mean Absolute Error:  127.09023454091367\n"
          ]
        }
      ],
      "source": [
        "from sklearn.linear_model import LinearRegression\n",
        "modelLR = LinearRegression()\n",
        "modelLR.fit(X_train,y_train)\n",
        "y_predictionLR =  modelLR.predict(X_test)\n",
        "print('mean squared error: ',mean_squared_error(y_test,y_predictionLR))\n",
        "print('R2 error: ',r2_score(y_test,y_predictionLR))\n",
        "print('Mean Absolute Error: ',mean_absolute_error(y_test,y_predictionLR))"
      ]
    },
    {
      "cell_type": "code",
      "execution_count": null,
      "metadata": {
        "id": "EU49d1ctwwps",
        "outputId": "0adaefb5-7c65-4538-9fb7-a2afb1dd83e4"
      },
      "outputs": [
        {
          "name": "stdout",
          "output_type": "stream",
          "text": [
            "mean squared error:  55993.55019856015\n",
            "R2 error:  0.9538497742593364\n",
            "Mean Absolute Error:  61.383085027069164\n"
          ]
        }
      ],
      "source": [
        "from sklearn.neighbors import KNeighborsRegressor\n",
        "model = KNeighborsRegressor(n_neighbors=3)\n",
        "model.fit(X_train,y_train)\n",
        "y_prediction =  model.predict(X_test)\n",
        "print('mean squared error: ',mean_squared_error(y_test,y_prediction))\n",
        "print('R2 error: ',r2_score(y_test,y_prediction))\n",
        "print('Mean Absolute Error: ',mean_absolute_error(y_test,y_prediction))"
      ]
    },
    {
      "cell_type": "code",
      "execution_count": null,
      "metadata": {
        "id": "ybP_9jWMwwpv",
        "outputId": "74387302-83ea-4e57-eb2c-d43cb7eac89b"
      },
      "outputs": [
        {
          "name": "stdout",
          "output_type": "stream",
          "text": [
            "KNeighborsRegressor(n_neighbors=15)\n"
          ]
        }
      ],
      "source": [
        "from sklearn.model_selection import cross_val_score\n",
        "from sklearn.model_selection import GridSearchCV\n",
        "import warnings\n",
        "warnings.filterwarnings('ignore')\n",
        "gs = GridSearchCV(KNeighborsRegressor(),param_grid={'n_neighbors':[i for i in range(1,25)]})\n",
        "gs.fit(X_train,y_train)\n",
        "print(gs.best_estimator_)\n",
        "y_predictionsGS=gs.predict(X_test)"
      ]
    },
    {
      "cell_type": "code",
      "execution_count": null,
      "metadata": {
        "id": "9RHikwAawwpw",
        "outputId": "f0e33a70-0106-420e-9712-e1c95210c093"
      },
      "outputs": [
        {
          "name": "stdout",
          "output_type": "stream",
          "text": [
            "mean squared error:  50142.312729966005\n",
            "R2 error:  0.9586723998846141\n",
            "Mean Absolute Error:  62.93418099900149\n"
          ]
        }
      ],
      "source": [
        "print('mean squared error: ',mean_squared_error(y_test,y_predictionsGS))\n",
        "print('R2 error: ',r2_score(y_test,y_predictionsGS))\n",
        "print('Mean Absolute Error: ',mean_absolute_error(y_test,y_predictionsGS))"
      ]
    },
    {
      "cell_type": "code",
      "execution_count": null,
      "metadata": {
        "id": "GnUs7xxEwwpy"
      },
      "outputs": [],
      "source": [
        "from sklearn.ensemble import RandomForestRegressor\n",
        "regr = RandomForestRegressor(max_depth=8, random_state=0)\n",
        "regr.fit(X_train, y_train)\n",
        "y_predictionsRG = regr.predict(X_test)"
      ]
    },
    {
      "cell_type": "code",
      "execution_count": null,
      "metadata": {
        "id": "iou_KoPcwwp0",
        "outputId": "5cf05ad7-074e-4f1a-cb3b-1e662cfa5c12"
      },
      "outputs": [
        {
          "name": "stdout",
          "output_type": "stream",
          "text": [
            "mean squared error:  43371.85930307216\n",
            "R2 error:  0.9642526489116856\n",
            "Mean Absolute Error:  57.0648558116634\n"
          ]
        }
      ],
      "source": [
        "print('mean squared error: ',mean_squared_error(y_test,y_predictionsRG))\n",
        "print('R2 error: ',r2_score(y_test,y_predictionsRG))\n",
        "print('Mean Absolute Error: ',mean_absolute_error(y_test,y_predictionsRG))"
      ]
    },
    {
      "cell_type": "code",
      "execution_count": null,
      "metadata": {
        "id": "EylV-5Ozwwp1",
        "outputId": "7d339677-2498-474b-e8ea-9b269605e96a"
      },
      "outputs": [
        {
          "name": "stdout",
          "output_type": "stream",
          "text": [
            "RandomForestRegressor(max_depth=9, random_state=0)\n",
            "mean squared error:  42614.75869193376\n",
            "R2 error:  0.9648766558551377\n",
            "Mean Absolute Error:  54.30638208727007\n"
          ]
        }
      ],
      "source": [
        "gs1 = GridSearchCV(RandomForestRegressor(random_state=0),param_grid={'max_depth':[i for i in range(5,10)]})\n",
        "gs1.fit(X_train,y_train)\n",
        "print(gs1.best_estimator_)\n",
        "y_predictionsGS1=gs1.predict(X_test)\n",
        "print('mean squared error: ',mean_squared_error(y_test,y_predictionsGS1))\n",
        "print('R2 error: ',r2_score(y_test,y_predictionsGS1))\n",
        "print('Mean Absolute Error: ',mean_absolute_error(y_test,y_predictionsGS1))"
      ]
    },
    {
      "cell_type": "code",
      "execution_count": null,
      "metadata": {
        "id": "2ty8FZPWwwp2"
      },
      "outputs": [],
      "source": [
        "# gs1 = GridSearchCV(RandomForestRegressor(random_state=0),param_grid={'max_depth':[i for i in range(5,10)]})\n",
        "# gs1.fit(X_train,y_train)\n",
        "# print(gs1.best_estimator_)\n",
        "# y_predictionsGS1=gs1.predict(X_test)\n",
        "# print('mean squared error: ',mean_squared_error(y_test,y_predictionsGS1))\n",
        "# print('R2 error: ',r2_score(y_test,y_predictionsGS1))\n",
        "# print('Mean Absolute Error: ',mean_absolute_error(y_test,y_predictionsGS1))"
      ]
    },
    {
      "cell_type": "code",
      "execution_count": null,
      "metadata": {
        "id": "QUjECCXLwwp3"
      },
      "outputs": [],
      "source": [
        ""
      ]
    },
    {
      "cell_type": "code",
      "execution_count": null,
      "metadata": {
        "id": "Ch7vVof1wwp6"
      },
      "outputs": [],
      "source": [
        ""
      ]
    }
  ],
  "metadata": {
    "interpreter": {
      "hash": "ac59ebe37160ed0dfa835113d9b8498d9f09ceb179beaac4002f036b9467c963"
    },
    "kernelspec": {
      "display_name": "Python 3.9.5 64-bit",
      "language": "python",
      "name": "python3"
    },
    "language_info": {
      "codemirror_mode": {
        "name": "ipython",
        "version": 3
      },
      "file_extension": ".py",
      "mimetype": "text/x-python",
      "name": "python",
      "nbconvert_exporter": "python",
      "pygments_lexer": "ipython3",
      "version": "3.9.5"
    },
    "orig_nbformat": 4,
    "colab": {
      "name": "Solar-Regression.ipynb",
      "provenance": []
    }
  },
  "nbformat": 4,
  "nbformat_minor": 0
}